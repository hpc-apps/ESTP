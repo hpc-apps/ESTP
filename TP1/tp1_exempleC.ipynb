{
  "metadata": {
    "kernelspec": {
      "name": "python",
      "display_name": "Python (Pyodide)",
      "language": "python"
    },
    "language_info": {
      "codemirror_mode": {
        "name": "python",
        "version": 3
      },
      "file_extension": ".py",
      "mimetype": "text/x-python",
      "name": "python",
      "nbconvert_exporter": "python",
      "pygments_lexer": "ipython3",
      "version": "3.8"
    }
  },
  "nbformat_minor": 5,
  "nbformat": 4,
  "cells": [
    {
      "id": "b5c97b11-4e53-4365-9557-5b7e9d99360f",
      "cell_type": "markdown",
      "source": "# Exemple C du TP1 - Analyse Numerique\n",
      "metadata": {}
    },
    {
      "id": "9e46ee6b-2e7a-49d0-8b89-19a28306ad01",
      "cell_type": "code",
      "source": "import numpy as np",
      "metadata": {
        "trusted": true
      },
      "outputs": [],
      "execution_count": 32
    },
    {
      "id": "cf2a2fb1-af5d-4a43-8621-4abc4d63bdf2",
      "cell_type": "code",
      "source": "# definition de la matrice A ",
      "metadata": {
        "trusted": true
      },
      "outputs": [],
      "execution_count": 33
    },
    {
      "id": "d80910af-8123-4674-b710-4b49df3b3daf",
      "cell_type": "code",
      "source": "matA = np.array([[5.,2.,1.],[5.,-6.,2.],[-4.,2.,1.]])\n",
      "metadata": {
        "trusted": true
      },
      "outputs": [],
      "execution_count": 34
    },
    {
      "id": "d636ab24-f009-447d-bcbd-e74298be44ba",
      "cell_type": "code",
      "source": "# definition du second membre ",
      "metadata": {
        "trusted": true
      },
      "outputs": [],
      "execution_count": 35
    },
    {
      "id": "81bb96f6-691d-4274-a800-e5a69dadf337",
      "cell_type": "code",
      "source": "b = np.array([12.,-1.,3.])\n",
      "metadata": {
        "trusted": true
      },
      "outputs": [],
      "execution_count": 36
    },
    {
      "id": "85bd2ee1-d8dd-4bbb-8352-372d55aa1f2a",
      "cell_type": "code",
      "source": "# Solveur par defaut python",
      "metadata": {
        "trusted": true
      },
      "outputs": [],
      "execution_count": 37
    },
    {
      "id": "23e94f5d-5aef-480e-b1b0-3f2c74b5d42d",
      "cell_type": "code",
      "source": "x_ref=np.linalg.solve(matA,b)\n",
      "metadata": {
        "trusted": true
      },
      "outputs": [],
      "execution_count": 38
    },
    {
      "id": "0da1b116-1700-4748-a0ed-6e14e8ef86ac",
      "cell_type": "code",
      "source": "x=np.zeros(3)\n",
      "metadata": {
        "trusted": true
      },
      "outputs": [],
      "execution_count": 39
    },
    {
      "id": "d8d57c91-0566-473d-a34d-8424d118b111",
      "cell_type": "code",
      "source": "# Triangulation",
      "metadata": {
        "trusted": true
      },
      "outputs": [],
      "execution_count": 40
    },
    {
      "id": "34f6213d-51a5-480e-8715-9bf6d4c1d0fc",
      "cell_type": "code",
      "source": "for i_p in range(0,3,1):\n#ligne de reference (i_p)\n    for i_b in range(i_p+1,3,1):\n        coeff = matA[i_b,i_p]/matA[i_p,i_p]\n        matA[i_b,i_p:3] = matA[i_b,i_p:3] - coeff*matA[i_p,i_p:3]\n        b[i_b] = b[i_b] - coeff*b[i_p]    ",
      "metadata": {
        "trusted": true
      },
      "outputs": [],
      "execution_count": 41
    },
    {
      "id": "61600cce-209b-47e8-99a8-eec720e197b9",
      "cell_type": "code",
      "source": "# Resolution triangulaire supérieure",
      "metadata": {
        "trusted": true
      },
      "outputs": [],
      "execution_count": 42
    },
    {
      "id": "b3fb5481-f710-4a52-a6ca-88d627da737b",
      "cell_type": "code",
      "source": "x[2] = b[n-1]/matA[2,2]\n",
      "metadata": {
        "trusted": true
      },
      "outputs": [],
      "execution_count": 43
    },
    {
      "id": "ce111060-f2d7-4c5e-97bd-0601d1ab5665",
      "cell_type": "code",
      "source": "for i in range(1,-1,-1):\n    x[i]= (1/matA[i,i])* (b[i]- np.dot(matA[i,i+1:3],x[i+1:3]))\n\n ",
      "metadata": {
        "trusted": true
      },
      "outputs": [],
      "execution_count": 44
    },
    {
      "id": "f65b8246-346b-407e-9ac1-b7f1982d45e0",
      "cell_type": "code",
      "source": "# Comparaison avec le solveur de reference python",
      "metadata": {
        "trusted": true
      },
      "outputs": [],
      "execution_count": 45
    },
    {
      "id": "774889c6-d23c-4027-bdae-b5846eddaff5",
      "cell_type": "code",
      "source": "x_ref = np.linalg.solve(matA,b)\n\nprint (abs(x_ref[:]-x[:])/abs(x_ref[:]))",
      "metadata": {
        "trusted": true
      },
      "outputs": [
        {
          "name": "stdout",
          "output_type": "stream",
          "text": "[0. 0. 0.]\n"
        }
      ],
      "execution_count": 46
    },
    {
      "id": "d16a5154-58fb-47e0-a83d-e0ca2d78ee1b",
      "cell_type": "code",
      "source": "",
      "metadata": {
        "trusted": true
      },
      "outputs": [],
      "execution_count": null
    }
  ]
}