{
  "metadata": {
    "kernelspec": {
      "display_name": "Python (Pyodide)",
      "language": "python",
      "name": "python"
    },
    "language_info": {
      "codemirror_mode": {
        "name": "python",
        "version": 3
      },
      "file_extension": ".py",
      "mimetype": "text/x-python",
      "name": "python",
      "nbconvert_exporter": "python",
      "pygments_lexer": "ipython3",
      "version": "3.8"
    }
  },
  "nbformat_minor": 5,
  "nbformat": 4,
  "cells": [
    {
      "id": "9634d434-cf6f-49c3-ad02-69d7efa1764f",
      "cell_type": "code",
      "source": "# Exemple B du TP1 - Analyse Numerique",
      "metadata": {
        "trusted": true
      },
      "outputs": [],
      "execution_count": 13
    },
    {
      "id": "f83e26d6-9529-4c84-9a32-ecb41fae6871",
      "cell_type": "code",
      "source": "import numpy as np",
      "metadata": {
        "trusted": true
      },
      "outputs": [],
      "execution_count": 14
    },
    {
      "id": "7002615a-611d-4cc2-a66b-a56803b9af5b",
      "cell_type": "code",
      "source": "# definition de la matrice U, triangulaire supérieure",
      "metadata": {
        "trusted": true
      },
      "outputs": [],
      "execution_count": 15
    },
    {
      "id": "e177a58d-ee96-4899-9a36-e410ee6094e2",
      "cell_type": "code",
      "source": "matA = np.array([[5,2,1],[0,-8,1],[0,0,9/4]])\n",
      "metadata": {
        "trusted": true
      },
      "outputs": [],
      "execution_count": 16
    },
    {
      "id": "32c1d72c-2047-4190-be18-6889ca7d2800",
      "cell_type": "code",
      "source": "# Definition du second membre ",
      "metadata": {
        "trusted": true
      },
      "outputs": [],
      "execution_count": 17
    },
    {
      "id": "611426cb-1f97-499d-82c9-f842b117438e",
      "cell_type": "code",
      "source": "b = np.array([12,-13,27/4])\n",
      "metadata": {
        "trusted": true
      },
      "outputs": [],
      "execution_count": 18
    },
    {
      "id": "d50b9910-25ad-4b05-b32c-d33084789501",
      "cell_type": "code",
      "source": "x=np.zeros(n)\n",
      "metadata": {
        "trusted": true
      },
      "outputs": [],
      "execution_count": 19
    },
    {
      "id": "19682b44-864c-41d6-bb7d-a06905fa3e36",
      "cell_type": "code",
      "source": "# Resolution du système triangulaire",
      "metadata": {
        "trusted": true
      },
      "outputs": [],
      "execution_count": 20
    },
    {
      "id": "6233a8d2-f5bf-4df1-be92-d2a349b6012e",
      "cell_type": "code",
      "source": "x[2] = b[n-1]/matA[2,2]\n",
      "metadata": {
        "trusted": true
      },
      "outputs": [],
      "execution_count": 21
    },
    {
      "id": "cd2f72cb-c38f-4ead-903f-4ce6b3cf6bfe",
      "cell_type": "code",
      "source": "for i in range(1,-1,-1):\n    x[i]= (1/matA[i,i])* (b[i]- np.dot(matA[i,i+1:3],x[i+1:3]))\n  ",
      "metadata": {
        "trusted": true
      },
      "outputs": [],
      "execution_count": 22
    },
    {
      "id": "ff513704-99e3-4384-84a3-643a4268992c",
      "cell_type": "code",
      "source": "# Comparaison avec le solveur python",
      "metadata": {
        "trusted": true
      },
      "outputs": [],
      "execution_count": 23
    },
    {
      "id": "2f26c392-f438-4404-9f43-f80db0e1a898",
      "cell_type": "code",
      "source": "x_ref = np.linalg.solve(matA,b)\n\nprint (abs(x_ref[:]-x[:])/abs(x_ref[:]))",
      "metadata": {
        "trusted": true
      },
      "outputs": [
        {
          "name": "stdout",
          "output_type": "stream",
          "text": "[0. 0. 0.]\n"
        }
      ],
      "execution_count": 24
    }
  ]
}