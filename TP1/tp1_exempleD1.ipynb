{
  "metadata": {
    "kernelspec": {
      "name": "python",
      "display_name": "Python (Pyodide)",
      "language": "python"
    },
    "language_info": {
      "codemirror_mode": {
        "name": "python",
        "version": 3
      },
      "file_extension": ".py",
      "mimetype": "text/x-python",
      "name": "python",
      "nbconvert_exporter": "python",
      "pygments_lexer": "ipython3",
      "version": "3.8"
    }
  },
  "nbformat_minor": 5,
  "nbformat": 4,
  "cells": [
    {
      "id": "4da501fe-d353-4e16-a49d-78811ccc9dab",
      "cell_type": "markdown",
      "source": "# Exemple D1 du TP1 - Analyse Numerique",
      "metadata": {}
    },
    {
      "id": "f83e26d6-9529-4c84-9a32-ecb41fae6871",
      "cell_type": "code",
      "source": "import numpy as np",
      "metadata": {
        "trusted": true
      },
      "outputs": [],
      "execution_count": 12
    },
    {
      "id": "b2dab9e5-f4d1-4a93-8dae-d26bac3f38af",
      "cell_type": "code",
      "source": "",
      "metadata": {
        "trusted": true
      },
      "outputs": [],
      "execution_count": null
    },
    {
      "id": "7002615a-611d-4cc2-a66b-a56803b9af5b",
      "cell_type": "code",
      "source": "# definition de la matrice U, triangulaire supérieure",
      "metadata": {
        "trusted": true
      },
      "outputs": [],
      "execution_count": 13
    },
    {
      "id": "e177a58d-ee96-4899-9a36-e410ee6094e2",
      "cell_type": "code",
      "source": "n=100\nmatA = np.loadtxt(\"matrice_upper_100.txt\")\n\n",
      "metadata": {
        "trusted": true
      },
      "outputs": [],
      "execution_count": 14
    },
    {
      "id": "32c1d72c-2047-4190-be18-6889ca7d2800",
      "cell_type": "code",
      "source": "# definition du second membre ",
      "metadata": {
        "trusted": true
      },
      "outputs": [],
      "execution_count": 15
    },
    {
      "id": "611426cb-1f97-499d-82c9-f842b117438e",
      "cell_type": "code",
      "source": "b= np.loadtxt(\"rhs_100.txt\")",
      "metadata": {
        "trusted": true
      },
      "outputs": [],
      "execution_count": 16
    },
    {
      "id": "d50b9910-25ad-4b05-b32c-d33084789501",
      "cell_type": "code",
      "source": "x=np.zeros(n)\n",
      "metadata": {
        "trusted": true
      },
      "outputs": [],
      "execution_count": 17
    },
    {
      "id": "19682b44-864c-41d6-bb7d-a06905fa3e36",
      "cell_type": "code",
      "source": "# solveur triangulaire",
      "metadata": {
        "trusted": true
      },
      "outputs": [],
      "execution_count": 18
    },
    {
      "id": "6233a8d2-f5bf-4df1-be92-d2a349b6012e",
      "cell_type": "code",
      "source": "x[n-1] = b[n-1]/matA[n-1,n-1]\n",
      "metadata": {
        "trusted": true
      },
      "outputs": [],
      "execution_count": 19
    },
    {
      "id": "8bd0ce6d-72a6-43e3-98e4-cb0bef341676",
      "cell_type": "code",
      "source": "",
      "metadata": {
        "trusted": true
      },
      "outputs": [],
      "execution_count": null
    },
    {
      "id": "cd2f72cb-c38f-4ead-903f-4ce6b3cf6bfe",
      "cell_type": "code",
      "source": "for i in range(n-2,-1,-1):\n    x[i]= (1/matA[i,i])* (b[i]- np.dot(matA[i,i+1:n],x[i+1:n]))\n\n\n  ",
      "metadata": {
        "trusted": true
      },
      "outputs": [],
      "execution_count": 20
    },
    {
      "id": "ff513704-99e3-4384-84a3-643a4268992c",
      "cell_type": "code",
      "source": "# comparaison avec le solveur python",
      "metadata": {
        "trusted": true
      },
      "outputs": [],
      "execution_count": 21
    },
    {
      "id": "2f26c392-f438-4404-9f43-f80db0e1a898",
      "cell_type": "code",
      "source": "x_ref = np.linalg.solve(matA,b)\nprint (abs(x_ref[:]-x[:])/abs(x_ref[:]))",
      "metadata": {
        "trusted": true
      },
      "outputs": [
        {
          "name": "stdout",
          "output_type": "stream",
          "text": "[3.43687949e-14 4.77198247e-15 5.61204771e-15 4.28987619e-16\n 3.52522905e-15 4.81557726e-15 4.15260123e-15 3.26307598e-15\n 4.77526814e-15 1.26965922e-14 4.36310397e-15 5.91954057e-15\n 4.73762097e-15 4.50825407e-15 4.31525231e-15 3.40523075e-15\n 2.81750371e-16 2.98197859e-15 1.97300619e-15 2.46518682e-15\n 2.79542374e-15 1.76783649e-15 9.93571670e-16 3.63827394e-15\n 3.18673061e-15 7.93030066e-15 2.91566775e-16 3.54646301e-15\n 2.79528510e-15 2.29930469e-15 2.25923175e-15 2.04726336e-15\n 2.07172216e-15 2.27594616e-15 2.25485908e-15 1.03792214e-15\n 1.43063931e-15 1.14103750e-15 2.03621723e-15 1.22085283e-15\n 4.42726638e-16 1.78762610e-15 1.42000388e-15 1.28049681e-15\n 1.29834201e-15 1.19809396e-15 1.83836192e-15 3.43178233e-16\n 1.72734377e-16 7.50417749e-16 7.85856329e-16 1.30848972e-15\n 9.26463425e-16 8.62489082e-16 7.22688192e-15 2.06465803e-16\n 1.24065707e-16 1.50715759e-16 7.70241708e-16 1.22204604e-15\n 3.53054211e-15 2.00452597e-15 1.93842148e-15 1.45595420e-15\n 7.81649596e-16 6.30754785e-16 8.39678112e-16 5.47651681e-16\n 1.95355936e-16 1.72330729e-16 4.59129254e-16 1.65912681e-16\n 1.81115977e-16 6.17870395e-16 1.49794553e-16 2.68643485e-16\n 2.00614331e-16 2.06335783e-16 2.10155613e-16 1.97999329e-16\n 3.57800230e-16 1.78377326e-16 4.22313158e-16 1.61687576e-15\n 1.44072942e-16 8.34355260e-16 3.66027952e-16 4.84387726e-16\n 1.68960283e-15 0.00000000e+00 5.52074339e-16 2.17240948e-16\n 1.70084821e-16 0.00000000e+00 0.00000000e+00 0.00000000e+00\n 2.06828935e-16 1.29759833e-16 0.00000000e+00 0.00000000e+00]\n"
        }
      ],
      "execution_count": 22
    },
    {
      "id": "4cdfe541-5fde-4dd6-a169-05b4adf5fa88",
      "cell_type": "code",
      "source": "",
      "metadata": {
        "trusted": true
      },
      "outputs": [],
      "execution_count": null
    }
  ]
}