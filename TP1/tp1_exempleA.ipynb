{
  "metadata": {
    "kernelspec": {
      "display_name": "Python (Pyodide)",
      "language": "python",
      "name": "python"
    },
    "language_info": {
      "codemirror_mode": {
        "name": "python",
        "version": 3
      },
      "file_extension": ".py",
      "mimetype": "text/x-python",
      "name": "python",
      "nbconvert_exporter": "python",
      "pygments_lexer": "ipython3",
      "version": "3.8"
    }
  },
  "nbformat_minor": 5,
  "nbformat": 4,
  "cells": [
    {
      "id": "75890ab1-fb28-4544-a380-23701d2a72c9",
      "cell_type": "markdown",
      "source": "# Exemple A du TP1 - Analyse Numerique",
      "metadata": {}
    },
    {
      "id": "e1d4cbf5-f8eb-4e23-9096-c174c2f20652",
      "cell_type": "code",
      "source": "# importer la bibliotheque numy afin de faciliter la manipulation des  vecteurs et des matrices et beneficier de l'auto-completion",
      "metadata": {
        "trusted": true
      },
      "outputs": [],
      "execution_count": 17
    },
    {
      "id": "418b9d82-6f05-480f-94ad-9fc434b2197a",
      "cell_type": "code",
      "source": "import numpy as  np ",
      "metadata": {
        "trusted": true
      },
      "outputs": [],
      "execution_count": 18
    },
    {
      "id": "3d575d81-7500-43a2-a914-d2e6fcb9c165",
      "cell_type": "code",
      "source": "# Definir un vecteur X et une matrice A",
      "metadata": {
        "trusted": true
      },
      "outputs": [],
      "execution_count": 19
    },
    {
      "id": "53a13077-c7df-48df-af23-d94b58a8ef83",
      "cell_type": "code",
      "source": "X = np.array([-4,0,3])\nprint (X)",
      "metadata": {
        "trusted": true
      },
      "outputs": [
        {
          "name": "stdout",
          "output_type": "stream",
          "text": "[-4  0  3]\n"
        }
      ],
      "execution_count": 20
    },
    {
      "id": "5bff3f56-fefa-4c72-92c2-749565f3acc7",
      "cell_type": "code",
      "source": "A = np.array([[2,3],[-1,1]])\nprint(A)\n",
      "metadata": {
        "trusted": true
      },
      "outputs": [
        {
          "name": "stdout",
          "output_type": "stream",
          "text": "[[ 2  3]\n [-1  1]]\n"
        }
      ],
      "execution_count": 21
    },
    {
      "id": "5ebff14d-774d-41e5-bc6f-a9ff02080640",
      "cell_type": "code",
      "source": "#Calculer la norme 1 - version automatique\nnorme1_X = np.linalg.norm(X,ord=1)\nprint (norme1_X)",
      "metadata": {
        "trusted": true
      },
      "outputs": [
        {
          "name": "stdout",
          "output_type": "stream",
          "text": "7.0\n"
        }
      ],
      "execution_count": 22
    },
    {
      "id": "453532c3-c804-44a6-b25f-eef3481ef1c9",
      "cell_type": "code",
      "source": "norme1_A = np.linalg.norm(A,ord=1)\nprint (norme1_A)",
      "metadata": {
        "trusted": true
      },
      "outputs": [
        {
          "name": "stdout",
          "output_type": "stream",
          "text": "4.0\n"
        }
      ],
      "execution_count": 23
    },
    {
      "id": "0020dab3-2a58-40d9-a5b1-47509a0ea111",
      "cell_type": "code",
      "source": "# Calculer norme 2 ",
      "metadata": {
        "trusted": true
      },
      "outputs": [],
      "execution_count": 24
    },
    {
      "id": "3b57e381-f86f-48f2-93a8-dad6048b37c5",
      "cell_type": "code",
      "source": "norme2_X = np.linalg.norm(X,ord=2)\nprint (norme2_X)",
      "metadata": {
        "trusted": true
      },
      "outputs": [
        {
          "name": "stdout",
          "output_type": "stream",
          "text": "5.0\n"
        }
      ],
      "execution_count": 25
    },
    {
      "id": "932efb9d-f7d4-40a7-be4c-7d6a3ad23f87",
      "cell_type": "code",
      "source": "norme2_A = np.linalg.norm(A,ord=2)\nprint (norme2_A)",
      "metadata": {
        "trusted": true
      },
      "outputs": [
        {
          "name": "stdout",
          "output_type": "stream",
          "text": "3.618033988749894\n"
        }
      ],
      "execution_count": 26
    },
    {
      "id": "b7d0bece-3772-4115-a107-60582c82ad10",
      "cell_type": "code",
      "source": "# Déterminer le conditionnement de  A ",
      "metadata": {
        "trusted": true
      },
      "outputs": [],
      "execution_count": 27
    },
    {
      "id": "b42eafee-00a7-4a13-a406-84828a54a914",
      "cell_type": "code",
      "source": "invA = np.linalg.inv(A)\nprint (invA)\n",
      "metadata": {
        "trusted": true
      },
      "outputs": [
        {
          "name": "stdout",
          "output_type": "stream",
          "text": "[[ 0.2 -0.6]\n [ 0.2  0.4]]\n"
        }
      ],
      "execution_count": 28
    },
    {
      "id": "ef664219-8541-4ab3-92f2-4a4a19ae4327",
      "cell_type": "code",
      "source": "norme2_invA=np.linalg.norm(invA,ord=2)\nprint (norme2_invA)\n",
      "metadata": {
        "trusted": true
      },
      "outputs": [
        {
          "name": "stdout",
          "output_type": "stream",
          "text": "0.7236067977499792\n"
        }
      ],
      "execution_count": 29
    },
    {
      "id": "7fce8148-e60c-43e7-a6f9-23afab51d6e0",
      "cell_type": "code",
      "source": "cond_A = norme2_A * norme2_invA\nprint(cond_A)\n",
      "metadata": {
        "trusted": true
      },
      "outputs": [
        {
          "name": "stdout",
          "output_type": "stream",
          "text": "2.618033988749895\n"
        }
      ],
      "execution_count": 30
    },
    {
      "id": "4548413a-c82d-4300-a522-4ec4fb319c95",
      "cell_type": "code",
      "source": "# Methode directe pour calculer le conditionnement",
      "metadata": {
        "trusted": true
      },
      "outputs": [],
      "execution_count": 31
    },
    {
      "id": "eca1e276-3914-4064-b8d1-680fa293e69c",
      "cell_type": "code",
      "source": "np.linalg.cond(A,p=2)\n",
      "metadata": {
        "trusted": true
      },
      "outputs": [
        {
          "execution_count": 32,
          "output_type": "execute_result",
          "data": {
            "text/plain": "np.float64(2.6180339887498936)"
          },
          "metadata": {}
        }
      ],
      "execution_count": 32
    },
    {
      "id": "6e07645b-d9dd-43b3-a48d-c81d46dead6b",
      "cell_type": "code",
      "source": "",
      "metadata": {
        "trusted": true
      },
      "outputs": [],
      "execution_count": null
    },
    {
      "id": "d200f7a3-ebfd-4c2c-82b6-85e4a69d9e7c",
      "cell_type": "code",
      "source": "",
      "metadata": {
        "trusted": true
      },
      "outputs": [],
      "execution_count": null
    }
  ]
}