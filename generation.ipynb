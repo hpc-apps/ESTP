{
  "metadata": {
    "kernelspec": {
      "name": "python",
      "display_name": "Python (Pyodide)",
      "language": "python"
    },
    "language_info": {
      "codemirror_mode": {
        "name": "python",
        "version": 3
      },
      "file_extension": ".py",
      "mimetype": "text/x-python",
      "name": "python",
      "nbconvert_exporter": "python",
      "pygments_lexer": "ipython3",
      "version": "3.8"
    }
  },
  "nbformat_minor": 5,
  "nbformat": 4,
  "cells": [
    {
      "id": "862b7700-4d90-4375-92c8-aea39f2c9232",
      "cell_type": "code",
      "source": "import numpy as np\n\ndef generate_upper_triangular(N):\n    \"\"\"Génère une matrice triangulaire supérieure inversible de taille N x N\"\"\"\n    # Générer une matrice aléatoire\n    U = np.random.rand(N, N) * 10  # Valeurs flottantes entre 0 et 10\n\n    # Transformer en matrice triangulaire supérieure\n    U = np.triu(U)  \n\n    # S'assurer que la diagonale ne contient pas de zéro (pour garantir l'inversibilité)\n    np.fill_diagonal(U, np.random.rand(N) * 9 + 1)  # Valeurs entre 1 et 10\n\n    return U\n\n# Générer une matrice 100x100\nN = 100\nU = generate_upper_triangular(N)\n\n# Exporter la matrice dans un fichier texte\nnp.savetxt(\"matrice_upper_100.txt\", U)\n\nprint(\"La matrice triangulaire supérieure a été générée et exportée dans 'matrice_upper_100.txt'.\")\n",
      "metadata": {
        "trusted": true
      },
      "outputs": [
        {
          "name": "stdout",
          "output_type": "stream",
          "text": "La matrice triangulaire supérieure a été générée et exportée dans 'matrice_upper_100.txt'.\n"
        }
      ],
      "execution_count": 5
    },
    {
      "id": "6f1a8d5e-6f3a-416a-9ec9-126b74ada8bc",
      "cell_type": "code",
      "source": "import numpy as np\n\n# Générer un vecteur aléatoire de taille 100 pour le second membre (rhs)\nN = 100\nrhs = np.random.rand(N) * 10  # Valeurs aléatoires entre 0 et 10\n\n# Sauvegarder ce vecteur dans un fichier texte\nnp.savetxt(\"rhs_100.txt\", rhs)\n\nprint(\"Le second membre a été généré et exporté dans 'rhs_100.txt'.\")",
      "metadata": {
        "trusted": true
      },
      "outputs": [
        {
          "name": "stdout",
          "output_type": "stream",
          "text": "Le second membre a été généré et exporté dans 'rhs_100.txt'.\n"
        }
      ],
      "execution_count": 6
    },
    {
      "id": "1c61eab7-3a5d-4c8d-a84e-50fc6085a02b",
      "cell_type": "code",
      "source": "import numpy as np\n\ndef generate_invertible_matrix(N):\n    \"\"\"Génère une matrice inversible de taille N x N\"\"\"\n    while True:\n        # Générer une matrice carrée aléatoire\n        A = np.random.rand(N, N) * 10  # Valeurs entre 0 et 10\n        if np.linalg.det(A) != 0:  # Vérifier si la matrice est inversible\n            return A\n\n# Taille de la matrice\nN = 100\n\n# Générer une matrice inversible de taille N x N\nA = generate_invertible_matrix(N)\n\n# Exporter la matrice dans un fichier texte\nnp.savetxt(\"matrice_100.txt\", A)\n\nprint(\"La matrice inversible a été générée et exportée dans 'matrice_100.txt'.\")\n",
      "metadata": {
        "trusted": true
      },
      "outputs": [
        {
          "name": "stdout",
          "output_type": "stream",
          "text": "La matrice inversible a été générée et exportée dans 'matrice_100.txt'.\n"
        }
      ],
      "execution_count": 7
    }
  ]
}