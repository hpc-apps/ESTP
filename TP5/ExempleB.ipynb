{
 "cells": [
  {
   "cell_type": "markdown",
   "id": "1b495a81",
   "metadata": {},
   "source": [
    "# Équation de Laplace 2D avec condition de Dirichlet spéciale\n",
    "## u = 0 sauf en haut : u(x,1) = 1\n",
    "On résout ∆u = 0 sur [0,1]² avec conditions aux bords."
   ]
  },
  {
   "cell_type": "code",
   "execution_count": null,
   "id": "5f69486f",
   "metadata": {},
   "outputs": [],
   "source": [
    "import numpy as np\n",
    "import matplotlib.pyplot as plt\n",
    "from scipy.sparse import lil_matrix\n",
    "from scipy.sparse.linalg import spsolve\n",
    "\n",
    "def solve_laplace_dirichlet_top(Nx, Ny=None):\n",
    "    if Ny is None:\n",
    "        Ny = Nx\n",
    "    Lx, Ly = 1.0, 1.0\n",
    "    dx, dy = Lx / (Nx - 1), Ly / (Ny - 1)\n",
    "    N = Nx * Ny\n",
    "\n",
    "    def idx(i, j):\n",
    "        return i + j * Nx\n",
    "\n",
    "    A = lil_matrix((N, N))\n",
    "    b = np.zeros(N)\n",
    "\n",
    "    x = np.linspace(0, Lx, Nx)\n",
    "    y = np.linspace(0, Ly, Ny)\n",
    "\n",
    "    for j in range(Ny):\n",
    "        for i in range(Nx):\n",
    "            k = idx(i, j)\n",
    "\n",
    "            if i == 0 or i == Nx - 1 or j == 0:\n",
    "                A[k, k] = 1\n",
    "                b[k] = 0\n",
    "            elif j == Ny - 1:\n",
    "                A[k, k] = 1\n",
    "                b[k] = 1\n",
    "            else:\n",
    "                A[k, idx(i, j)]     = -4\n",
    "                A[k, idx(i+1, j)]   = 1\n",
    "                A[k, idx(i-1, j)]   = 1\n",
    "                A[k, idx(i, j+1)]   = 1\n",
    "                A[k, idx(i, j-1)]   = 1\n",
    "\n",
    "    u = spsolve(A.tocsr(), b)\n",
    "    u_2d = u.reshape((Ny, Nx))\n",
    "    return u_2d, dx, x, y"
   ]
  },
  {
   "cell_type": "markdown",
   "id": "a4399f9e",
   "metadata": {},
   "source": [
    "## Affichage de la solution pour N = 80"
   ]
  },
  {
   "cell_type": "code",
   "execution_count": null,
   "id": "9418ed5f",
   "metadata": {},
   "outputs": [],
   "source": [
    "N_display = 80\n",
    "u_display, _, x_display, y_display = solve_laplace_dirichlet_top(N_display)\n",
    "X_disp, Y_disp = np.meshgrid(x_display, y_display)\n",
    "\n",
    "plt.figure(figsize=(6, 5))\n",
    "plt.contourf(X_disp, Y_disp, u_display, levels=50, cmap='viridis')\n",
    "plt.colorbar(label='Température u(x, y)')\n",
    "plt.title(\"Solution numérique pour N = 80\")\n",
    "plt.xlabel(\"x\")\n",
    "plt.ylabel(\"y\")\n",
    "plt.show()"
   ]
  },
  {
   "cell_type": "markdown",
   "id": "9b0c844d",
   "metadata": {},
   "source": [
    "## Courbe log-log de l’erreur L2 par rapport à une solution de référence"
   ]
  },
  {
   "cell_type": "code",
   "execution_count": null,
   "id": "66b8eb66",
   "metadata": {},
   "outputs": [],
   "source": [
    "N_values = [10, 20, 40, 80]\n",
    "errors = []\n",
    "hs = []\n",
    "\n",
    "# Solution de référence\n",
    "u_ref, h_ref, _, _ = solve_laplace_dirichlet_top(160)\n",
    "\n",
    "def ref_downsample(u_ref, factor):\n",
    "    return u_ref[::factor, ::factor]\n",
    "\n",
    "for N in N_values:\n",
    "    u_num, h, _, _ = solve_laplace_dirichlet_top(N)\n",
    "    factor = 160 // N\n",
    "    u_ref_interp = ref_downsample(u_ref, factor)\n",
    "    error = np.linalg.norm(u_num - u_ref_interp, ord=2) * h**2\n",
    "    errors.append(error)\n",
    "    hs.append(h)\n",
    "\n",
    "plt.figure()\n",
    "plt.loglog(hs, errors, '-o', label='Erreur L2')\n",
    "plt.xlabel(\"Pas d’espace h\")\n",
    "plt.ylabel(\"Erreur L2\")\n",
    "plt.title(\"Convergence en norme L2 (log-log)\")\n",
    "plt.grid(True, which='both')\n",
    "plt.legend()\n",
    "plt.show()"
   ]
  }
 ],
 "metadata": {},
 "nbformat": 4,
 "nbformat_minor": 5
}
