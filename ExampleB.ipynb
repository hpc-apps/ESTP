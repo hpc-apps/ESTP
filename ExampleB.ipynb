{
  "metadata": {
    "kernelspec": {
      "name": "python",
      "display_name": "Python (Pyodide)",
      "language": "python"
    },
    "language_info": {
      "codemirror_mode": {
        "name": "python",
        "version": 3
      },
      "file_extension": ".py",
      "mimetype": "text/x-python",
      "name": "python",
      "nbconvert_exporter": "python",
      "pygments_lexer": "ipython3",
      "version": "3.8"
    }
  },
  "nbformat_minor": 5,
  "nbformat": 4,
  "cells": [
    {
      "id": "9634d434-cf6f-49c3-ad02-69d7efa1764f",
      "cell_type": "code",
      "source": "# Example B du TP1 - Analyse Numerique",
      "metadata": {
        "trusted": true
      },
      "outputs": [],
      "execution_count": 189
    },
    {
      "id": "f83e26d6-9529-4c84-9a32-ecb41fae6871",
      "cell_type": "code",
      "source": "import numpy as np",
      "metadata": {
        "trusted": true
      },
      "outputs": [],
      "execution_count": 190
    },
    {
      "id": "b2dab9e5-f4d1-4a93-8dae-d26bac3f38af",
      "cell_type": "code",
      "source": "",
      "metadata": {
        "trusted": true
      },
      "outputs": [],
      "execution_count": null
    },
    {
      "id": "7002615a-611d-4cc2-a66b-a56803b9af5b",
      "cell_type": "code",
      "source": "# definition de la matrice U, triangulaire supérieure",
      "metadata": {
        "trusted": true
      },
      "outputs": [],
      "execution_count": 191
    },
    {
      "id": "e177a58d-ee96-4899-9a36-e410ee6094e2",
      "cell_type": "code",
      "source": "n=3\nmatA = np.array([[5,2,1],[0,-8,1],[0,0,9/4]])\n#print (matA)\n#n=100\n#matA = np.loadtxt(\"matrice_upper_100.txt\")\n\n",
      "metadata": {
        "trusted": true
      },
      "outputs": [],
      "execution_count": 192
    },
    {
      "id": "32c1d72c-2047-4190-be18-6889ca7d2800",
      "cell_type": "code",
      "source": "# definition du second membre ",
      "metadata": {
        "trusted": true
      },
      "outputs": [],
      "execution_count": 193
    },
    {
      "id": "611426cb-1f97-499d-82c9-f842b117438e",
      "cell_type": "code",
      "source": "b = np.array([12,-13,27/4])\n#print (b)\n#b= np.loadtxt(\"rhs_100.txt\")",
      "metadata": {
        "trusted": true
      },
      "outputs": [],
      "execution_count": 194
    },
    {
      "id": "d50b9910-25ad-4b05-b32c-d33084789501",
      "cell_type": "code",
      "source": "x=np.zeros(n)\n#print (x)",
      "metadata": {
        "trusted": true
      },
      "outputs": [],
      "execution_count": 195
    },
    {
      "id": "19682b44-864c-41d6-bb7d-a06905fa3e36",
      "cell_type": "code",
      "source": "# On commence par le dernier terme",
      "metadata": {
        "trusted": true
      },
      "outputs": [],
      "execution_count": 196
    },
    {
      "id": "6233a8d2-f5bf-4df1-be92-d2a349b6012e",
      "cell_type": "code",
      "source": "x[n-1] = b[n-1]/matA[n-1,n-1]\n#print(x)",
      "metadata": {
        "trusted": true
      },
      "outputs": [],
      "execution_count": 197
    },
    {
      "id": "8bd0ce6d-72a6-43e3-98e4-cb0bef341676",
      "cell_type": "code",
      "source": "# On traite les termes suivants",
      "metadata": {
        "trusted": true
      },
      "outputs": [],
      "execution_count": 198
    },
    {
      "id": "cd2f72cb-c38f-4ead-903f-4ce6b3cf6bfe",
      "cell_type": "code",
      "source": "for i in range(n-2,-1,-1):\n    x[i]= (1/matA[i,i])* (b[i]- np.dot(matA[i,i+1:n],x[i+1:n]))\n\n#print (x)\n  ",
      "metadata": {
        "trusted": true
      },
      "outputs": [],
      "execution_count": 199
    },
    {
      "id": "ff513704-99e3-4384-84a3-643a4268992c",
      "cell_type": "code",
      "source": "# comparaison avec le solveur python",
      "metadata": {
        "trusted": true
      },
      "outputs": [],
      "execution_count": 200
    },
    {
      "id": "2f26c392-f438-4404-9f43-f80db0e1a898",
      "cell_type": "code",
      "source": "x_ref = np.linalg.solve(matA,b)\n#print (x_ref)\nprint ((x_ref[:]-x[:])/x_ref[:])",
      "metadata": {
        "trusted": true
      },
      "outputs": [
        {
          "name": "stdout",
          "output_type": "stream",
          "text": "[0. 0. 0.]\n"
        }
      ],
      "execution_count": 201
    },
    {
      "id": "4cdfe541-5fde-4dd6-a169-05b4adf5fa88",
      "cell_type": "code",
      "source": "",
      "metadata": {
        "trusted": true
      },
      "outputs": [],
      "execution_count": null
    }
  ]
}