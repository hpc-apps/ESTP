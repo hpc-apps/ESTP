{
  "metadata": {
    "kernelspec": {
      "name": "python",
      "display_name": "Python (Pyodide)",
      "language": "python"
    },
    "language_info": {
      "codemirror_mode": {
        "name": "python",
        "version": 3
      },
      "file_extension": ".py",
      "mimetype": "text/x-python",
      "name": "python",
      "nbconvert_exporter": "python",
      "pygments_lexer": "ipython3",
      "version": "3.8"
    }
  },
  "nbformat_minor": 5,
  "nbformat": 4,
  "cells": [
    {
      "id": "e604245a-ff0a-468e-a93b-fcd6f2a51d3b",
      "cell_type": "code",
      "source": "# Example C du TP1 - Analyse Numerique\n",
      "metadata": {
        "trusted": true
      },
      "outputs": [],
      "execution_count": 105
    },
    {
      "id": "9e46ee6b-2e7a-49d0-8b89-19a28306ad01",
      "cell_type": "code",
      "source": "import numpy as np",
      "metadata": {
        "trusted": true
      },
      "outputs": [],
      "execution_count": 106
    },
    {
      "id": "cf2a2fb1-af5d-4a43-8621-4abc4d63bdf2",
      "cell_type": "code",
      "source": "# definition de la matrice A ",
      "metadata": {
        "trusted": true
      },
      "outputs": [],
      "execution_count": 107
    },
    {
      "id": "d80910af-8123-4674-b710-4b49df3b3daf",
      "cell_type": "code",
      "source": "#n=3\n#matA = np.array([[5.,2.,1.],[5.,-6.,2.],[-4.,2.,1.]])\n#print (matA)\nn=100\nmatA = np.loadtxt(\"matrice_100.txt\")",
      "metadata": {
        "trusted": true
      },
      "outputs": [],
      "execution_count": 108
    },
    {
      "id": "d636ab24-f009-447d-bcbd-e74298be44ba",
      "cell_type": "code",
      "source": "# definition du second membre ",
      "metadata": {
        "trusted": true
      },
      "outputs": [],
      "execution_count": 109
    },
    {
      "id": "81bb96f6-691d-4274-a800-e5a69dadf337",
      "cell_type": "code",
      "source": "#b = np.array([12.,-1.,3.])\n#print (b)\nb= np.loadtxt(\"rhs_100.txt\")\n",
      "metadata": {
        "trusted": true
      },
      "outputs": [],
      "execution_count": 110
    },
    {
      "id": "85bd2ee1-d8dd-4bbb-8352-372d55aa1f2a",
      "cell_type": "code",
      "source": "# Solveur par defaut python",
      "metadata": {
        "trusted": true
      },
      "outputs": [],
      "execution_count": 111
    },
    {
      "id": "23e94f5d-5aef-480e-b1b0-3f2c74b5d42d",
      "cell_type": "code",
      "source": "x_ref=np.linalg.solve(matA,b)\n#print (x_ref)",
      "metadata": {
        "trusted": true
      },
      "outputs": [],
      "execution_count": 112
    },
    {
      "id": "0da1b116-1700-4748-a0ed-6e14e8ef86ac",
      "cell_type": "code",
      "source": "x=np.zeros(n)\n#print (x)\n",
      "metadata": {
        "trusted": true
      },
      "outputs": [],
      "execution_count": 113
    },
    {
      "id": "d8d57c91-0566-473d-a34d-8424d118b111",
      "cell_type": "code",
      "source": "# Triangulation",
      "metadata": {
        "trusted": true
      },
      "outputs": [],
      "execution_count": 114
    },
    {
      "id": "34f6213d-51a5-480e-8715-9bf6d4c1d0fc",
      "cell_type": "code",
      "source": "for i_p in range(0,n,1):\n#on traite les lignes en dessous (i_b:n) de la ligne de reference (i_p)\n    for i_b in range(i_p+1,n,1):\n        coeff = matA[i_b,i_p]/matA[i_p,i_p]\n        matA[i_b,i_p:n] = matA[i_b,i_p:n] - coeff*matA[i_p,i_p:n]\n        b[i_b] = b[i_b] - coeff*b[i_p]    ",
      "metadata": {
        "trusted": true
      },
      "outputs": [],
      "execution_count": 115
    },
    {
      "id": "47c94185-559b-49b1-b2ed-97ec157826db",
      "cell_type": "code",
      "source": "#print (matA)\n#print (b)",
      "metadata": {
        "trusted": true
      },
      "outputs": [],
      "execution_count": 116
    },
    {
      "id": "61600cce-209b-47e8-99a8-eec720e197b9",
      "cell_type": "code",
      "source": "# Resolution triangulaire supérieure",
      "metadata": {
        "trusted": true
      },
      "outputs": [],
      "execution_count": 117
    },
    {
      "id": "b3fb5481-f710-4a52-a6ca-88d627da737b",
      "cell_type": "code",
      "source": "x[n-1] = b[n-1]/matA[n-1,n-1]\n#print(x)",
      "metadata": {
        "trusted": true
      },
      "outputs": [],
      "execution_count": 118
    },
    {
      "id": "ce111060-f2d7-4c5e-97bd-0601d1ab5665",
      "cell_type": "code",
      "source": "for i in range(n-2,-1,-1):\n    x[i]= (1/matA[i,i])* (b[i]- np.dot(matA[i,i+1:n],x[i+1:n]))\n\n#print (x)\n  ",
      "metadata": {
        "trusted": true
      },
      "outputs": [
        {
          "name": "stdout",
          "output_type": "stream",
          "text": "[ 2.90787131 -1.00405354 -6.03858555 -0.9127751  -0.45950691 -3.28211478\n -1.63416842  2.87225155 -0.58652442  1.4615146  -1.25633962 -5.81013306\n  0.78479121 -0.67299677 -1.72285414  4.91741152 -0.31835967  1.85492591\n  0.4395346   0.73089032 -2.98414439  0.956144   -3.66734122 -0.95200933\n -3.09854209 -5.57879536  0.47529587 -0.67723237 -1.82612226  0.44999926\n -0.36582795  3.23213055 -2.77070446  3.57212244  6.12194373 -1.04367253\n  0.64341614  0.26426552  3.84367782  4.25136524 -1.20067886  6.59322811\n  0.50645812  0.80420498 -1.33632019 -3.00713487  0.30507399  1.81973196\n  1.41950169  3.93224749 -2.86288246  1.05667807 -0.27450154 -1.04595464\n  3.6367523   5.15756666 -0.96553537 -6.82204553  0.28609968  3.54194493\n  1.29444383 -4.92629126  1.02712701 -4.18126702  3.91933234  1.40141177\n  1.20886206 -0.05098697  4.84719333 -3.3843909  -2.20762752  3.64375401\n -5.10507499  1.96308891 -2.25492607 -7.28592203 -0.9597738  -4.55387195\n  0.59630074  2.25006655 -0.5098416  -0.28647002  2.12991523  2.94990443\n -3.10880949  1.45376474 -6.04739176 -0.62014163  4.16999892  1.83346033\n  0.39312659 -0.62359699  2.19228595  4.26898952  1.42121333 -0.78445983\n -2.22931903 -1.36547799  2.84890468  0.87590691]\n"
        }
      ],
      "execution_count": 119
    },
    {
      "id": "f65b8246-346b-407e-9ac1-b7f1982d45e0",
      "cell_type": "code",
      "source": "",
      "metadata": {
        "trusted": true
      },
      "outputs": [],
      "execution_count": null
    },
    {
      "id": "774889c6-d23c-4027-bdae-b5846eddaff5",
      "cell_type": "code",
      "source": "x_ref = np.linalg.solve(matA,b)\n#print (x_ref)\nprint ((x_ref[:]-x[:])/x_ref[:])",
      "metadata": {
        "trusted": true
      },
      "outputs": [
        {
          "name": "stdout",
          "output_type": "stream",
          "text": "[-4.61213469e-13  3.72634668e-13 -4.22130653e-14 -2.57007585e-13\n -2.28190288e-12  2.94966673e-14 -1.39273111e-13  1.34513850e-13\n -2.17303150e-12 -1.12274597e-13  1.30133158e-12  3.33250364e-14\n  2.23447617e-12  1.53419372e-12  1.41396262e-12 -2.03015863e-13\n -7.37394465e-13  1.63397840e-13 -2.15219811e-12  9.00767504e-13\n -5.37077886e-13  6.12040191e-13 -4.57731395e-14 -3.61868517e-13\n -6.42512469e-13 -4.22851481e-13  4.68572847e-13  2.13197879e-12\n  2.88784573e-13 -6.11733899e-13  2.90857423e-12 -7.06089811e-13\n  2.16378341e-14  3.91113317e-13  2.52441139e-14  3.23384770e-14\n  4.05495597e-14  4.74563586e-12  3.12066987e-13 -1.93665176e-13\n  1.48870704e-13  1.60844584e-13 -2.25548455e-12 -8.34111661e-13\n  1.23790116e-13  3.07171310e-14  1.79776117e-13  4.94183027e-14\n  8.22791990e-14  5.33054207e-14 -8.84181775e-15  2.04460949e-13\n -4.46715643e-13 -2.21841945e-13 -6.36200817e-14 -8.78264934e-15\n  3.84050655e-14  2.36950152e-14 -6.59498826e-13  2.88374100e-14\n  6.79285279e-14  4.16478044e-14 -1.58892506e-13  2.74019850e-14\n  1.57497234e-14  4.75330542e-14  9.73507605e-15  4.86010055e-12\n -6.41324630e-15 -6.06221979e-14 -8.04645177e-16 -1.60877423e-14\n -1.09607088e-14 -4.06064203e-14  7.26715261e-14 -2.55997069e-15\n  1.21574938e-13 -5.07098996e-15 -9.36510970e-14 -2.03288159e-14\n -7.64332066e-14 -4.23789161e-13  2.64796124e-14 -1.73125131e-14\n  8.28522116e-15  5.26944880e-14 -1.70368815e-14 -4.47568335e-14\n -2.34291730e-14  1.62283179e-14  1.06468016e-13 -8.54569638e-15\n -2.57262652e-14  7.28187421e-15  4.35898282e-14 -1.13221657e-15\n  3.98407948e-16  5.36623220e-15  0.00000000e+00  3.80253774e-16]\n"
        }
      ],
      "execution_count": 120
    },
    {
      "id": "d16a5154-58fb-47e0-a83d-e0ca2d78ee1b",
      "cell_type": "code",
      "source": "",
      "metadata": {
        "trusted": true
      },
      "outputs": [],
      "execution_count": null
    }
  ]
}