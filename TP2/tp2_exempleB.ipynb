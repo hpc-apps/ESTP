{
  "metadata": {
    "kernelspec": {
      "display_name": "Python (Pyodide)",
      "language": "python",
      "name": "python"
    },
    "language_info": {
      "codemirror_mode": {
        "name": "python",
        "version": 3
      },
      "file_extension": ".py",
      "mimetype": "text/x-python",
      "name": "python",
      "nbconvert_exporter": "python",
      "pygments_lexer": "ipython3",
      "version": "3.8"
    }
  },
  "nbformat_minor": 5,
  "nbformat": 4,
  "cells": [
    {
      "id": "75890ab1-fb28-4544-a380-23701d2a72c9",
      "cell_type": "markdown",
      "source": "# Exemple B du TP2 - Approximation",
      "metadata": {}
    },
    {
      "id": "e1d4cbf5-f8eb-4e23-9096-c174c2f20652",
      "cell_type": "code",
      "source": "# importer la bibliotheque numy afin de faciliter la manipulation des  vecteurs et des matrices et beneficier de l'auto-completion",
      "metadata": {
        "trusted": true
      },
      "outputs": [],
      "execution_count": 187
    },
    {
      "id": "418b9d82-6f05-480f-94ad-9fc434b2197a",
      "cell_type": "code",
      "source": "import numpy as  np\nimport math",
      "metadata": {
        "trusted": true
      },
      "outputs": [],
      "execution_count": 188
    },
    {
      "id": "3d575d81-7500-43a2-a914-d2e6fcb9c165",
      "cell_type": "code",
      "source": "# Definition des 4 points",
      "metadata": {
        "trusted": true
      },
      "outputs": [],
      "execution_count": 189
    },
    {
      "id": "53a13077-c7df-48df-af23-d94b58a8ef83",
      "cell_type": "code",
      "source": "x = np.array([-3,-1,0,2])\ny = np.array([17,1,-1,7])\n",
      "metadata": {
        "trusted": true
      },
      "outputs": [],
      "execution_count": 190
    },
    {
      "id": "05686c37-08eb-4e98-bc9f-5b56c02f9bd1",
      "cell_type": "code",
      "source": "# Construction de la matrice de Vandermonde M1\nM1 = np.zeros((4,2))\nfor i in range(4):\n    for j in range(2):\n        M1[i,j]=x[i]**(j)",
      "metadata": {
        "trusted": true
      },
      "outputs": [],
      "execution_count": 191
    },
    {
      "id": "c0a6a2b1-3cbd-4a97-86bf-515e40ac2c05",
      "cell_type": "code",
      "source": "# Construction des matrices associées Q1 et s1\nQ1 = (M1.T)@M1\ns1 = (M1.T)@y",
      "metadata": {
        "trusted": true
      },
      "outputs": [],
      "execution_count": 192
    },
    {
      "id": "5f08cfd2-2c3a-407f-8e7a-b1e62b4502c8",
      "cell_type": "code",
      "source": "# Resolution du système d'équations normales et droite de regression",
      "metadata": {
        "trusted": true
      },
      "outputs": [],
      "execution_count": 193
    },
    {
      "id": "5bff3f56-fefa-4c72-92c2-749565f3acc7",
      "cell_type": "code",
      "source": "p1 = np.linalg.solve(Q1,s1)\nprint (p1)",
      "metadata": {
        "trusted": true
      },
      "outputs": [
        {
          "name": "stdout",
          "output_type": "stream",
          "text": "[ 5. -2.]\n"
        }
      ],
      "execution_count": 194
    },
    {
      "id": "85e285cd-0a3b-4e70-b5b0-7cedc6317a94",
      "cell_type": "code",
      "source": "#Calcul du coefficient de correlation linéaire",
      "metadata": {
        "trusted": true
      },
      "outputs": [],
      "execution_count": 195
    },
    {
      "id": "adc4d87e-6e17-4b9f-88db-b41db3a8335b",
      "cell_type": "code",
      "source": "# calcul de la matrice de covariance ",
      "metadata": {
        "trusted": true
      },
      "outputs": [],
      "execution_count": 196
    },
    {
      "id": "4a4be5a5-e8a6-4eb3-8319-3353255fdb4d",
      "cell_type": "code",
      "source": "glob_var=[x,y]\nprint (glob_var)\ncov_matrix = np.cov(glob_var, bias=True)\nprint(cov_matrix)",
      "metadata": {
        "trusted": true
      },
      "outputs": [
        {
          "name": "stdout",
          "output_type": "stream",
          "text": "[array([-3, -1,  0,  2]), array([17,  1, -1,  7])]\n[[ 3.25 -6.5 ]\n [-6.5  49.  ]]\n"
        }
      ],
      "execution_count": 197
    },
    {
      "id": "1c5d72b6-6189-44b2-95e1-585a17d1012b",
      "cell_type": "code",
      "source": "# calcul du coefficience de correlation lineaire - application de la formule\nr_xy = cov_matrix[0,1] / (math.sqrt(cov_matrix[0,0])*math.sqrt(cov_matrix[1,1]))\n\n# calcul du coefficient de correlation lineaire - fonction python\nr_xy_ref = np.corrcoef(x,y)[0,1]\nprint (r_xy)\nprint (r_xy_ref)",
      "metadata": {
        "trusted": true
      },
      "outputs": [
        {
          "name": "stdout",
          "output_type": "stream",
          "text": "-0.5150787536377127\n-0.5150787536377127\n"
        }
      ],
      "execution_count": 198
    },
    {
      "id": "60030dc2-63f8-4ed7-9625-7ad1fab30027",
      "cell_type": "code",
      "source": "# Determination du polynome de degré 2 minimisant la norme du résidu\n",
      "metadata": {
        "trusted": true
      },
      "outputs": [],
      "execution_count": 199
    },
    {
      "id": "e9640683-3ad8-407e-96c1-b485f72406e6",
      "cell_type": "code",
      "source": "# Construction de la matrice de Vandermonde M\nM2 = np.zeros((4,3))\nfor i in range(4):\n    for j in range(3):\n        M2[i,j]=x[i]**(j)",
      "metadata": {
        "trusted": true
      },
      "outputs": [],
      "execution_count": 200
    },
    {
      "id": "d2e438c0-5df9-4e4e-a54b-bca648daca47",
      "cell_type": "code",
      "source": "# Construction des matrices associées Q2 et s2\nQ2 = (M2.T)@M2\ns2 = (M2.T)@y",
      "metadata": {
        "trusted": true
      },
      "outputs": [],
      "execution_count": 201
    },
    {
      "id": "68f455b4-b3e6-4495-84c9-52317c5570dd",
      "cell_type": "code",
      "source": "# Resolution du système d'équations normales et polynome d'approximation",
      "metadata": {
        "trusted": true
      },
      "outputs": [],
      "execution_count": 202
    },
    {
      "id": "9c82a286-e5d5-4131-8022-be58a33763fc",
      "cell_type": "code",
      "source": "p2 = np.linalg.solve(Q2,s2)",
      "metadata": {
        "trusted": true
      },
      "outputs": [],
      "execution_count": 203
    },
    {
      "id": "32214eed-5096-4b20-9e98-dc90988fd171",
      "cell_type": "code",
      "source": "print (p2)",
      "metadata": {
        "trusted": true
      },
      "outputs": [
        {
          "name": "stdout",
          "output_type": "stream",
          "text": "[-1.  0.  2.]\n"
        }
      ],
      "execution_count": 204
    },
    {
      "id": "447df994-edad-48e6-9e35-d7c451656f74",
      "cell_type": "code",
      "source": "# Calcul de la norme 2 du Résidu",
      "metadata": {
        "trusted": true
      },
      "outputs": [],
      "execution_count": null
    },
    {
      "id": "6c2f0825-2430-4291-9aa7-9d3e9b7c241f",
      "cell_type": "code",
      "source": "residu_p2 = p2@Q2@p2 - ((p2)*(2))@s2 + y@y\nprint (residu_p2)",
      "metadata": {
        "trusted": true
      },
      "outputs": [
        {
          "name": "stdout",
          "output_type": "stream",
          "text": "0.0\n"
        }
      ],
      "execution_count": 215
    },
    {
      "id": "5f2f8875-e95c-412e-a46f-729c24674d49",
      "cell_type": "code",
      "source": "",
      "metadata": {
        "trusted": true
      },
      "outputs": [],
      "execution_count": null
    },
    {
      "id": "952b00c1-3bf8-4675-9c21-1f971cbbb679",
      "cell_type": "code",
      "source": "",
      "metadata": {
        "trusted": true
      },
      "outputs": [],
      "execution_count": null
    }
  ]
}