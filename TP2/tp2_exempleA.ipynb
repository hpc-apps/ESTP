{
  "metadata": {
    "kernelspec": {
      "display_name": "Python (Pyodide)",
      "language": "python",
      "name": "python"
    },
    "language_info": {
      "codemirror_mode": {
        "name": "python",
        "version": 3
      },
      "file_extension": ".py",
      "mimetype": "text/x-python",
      "name": "python",
      "nbconvert_exporter": "python",
      "pygments_lexer": "ipython3",
      "version": "3.8"
    }
  },
  "nbformat_minor": 5,
  "nbformat": 4,
  "cells": [
    {
      "id": "75890ab1-fb28-4544-a380-23701d2a72c9",
      "cell_type": "markdown",
      "source": "# Exemple A du TP2 - Approximation",
      "metadata": {}
    },
    {
      "id": "e1d4cbf5-f8eb-4e23-9096-c174c2f20652",
      "cell_type": "code",
      "source": "# importer la bibliotheque numy afin de faciliter la manipulation des  vecteurs et des matrices et beneficier de l'auto-completion",
      "metadata": {
        "trusted": true
      },
      "outputs": [],
      "execution_count": 33
    },
    {
      "id": "418b9d82-6f05-480f-94ad-9fc434b2197a",
      "cell_type": "code",
      "source": "import numpy as  np ",
      "metadata": {
        "trusted": true
      },
      "outputs": [],
      "execution_count": 34
    },
    {
      "id": "3d575d81-7500-43a2-a914-d2e6fcb9c165",
      "cell_type": "code",
      "source": "# Definition des 4 points",
      "metadata": {
        "trusted": true
      },
      "outputs": [],
      "execution_count": 35
    },
    {
      "id": "53a13077-c7df-48df-af23-d94b58a8ef83",
      "cell_type": "code",
      "source": "x = np.array([1,2,3,4])\ny = np.array([-0.5,0,1.5,2])\n",
      "metadata": {
        "trusted": true
      },
      "outputs": [],
      "execution_count": 36
    },
    {
      "id": "05686c37-08eb-4e98-bc9f-5b56c02f9bd1",
      "cell_type": "code",
      "source": "# Construction de la matrice de Vandermonde M\nM = np.zeros((4,2))\nprint (M)\nfor i in range(4):\n    for j in range(2):\n        M[i,j]=x[i]**(j)\nprint(M)",
      "metadata": {
        "trusted": true
      },
      "outputs": [
        {
          "name": "stdout",
          "output_type": "stream",
          "text": "[[0. 0.]\n [0. 0.]\n [0. 0.]\n [0. 0.]]\n[[1. 1.]\n [1. 2.]\n [1. 3.]\n [1. 4.]]\n"
        }
      ],
      "execution_count": 37
    },
    {
      "id": "c0a6a2b1-3cbd-4a97-86bf-515e40ac2c05",
      "cell_type": "code",
      "source": "# Construction des matrices associées Q et s\nQ = (M.T)@M\ns = (M.T)@y",
      "metadata": {
        "trusted": true
      },
      "outputs": [],
      "execution_count": 38
    },
    {
      "id": "5f08cfd2-2c3a-407f-8e7a-b1e62b4502c8",
      "cell_type": "code",
      "source": "# Resolution du système d'équations normales et droite de regression",
      "metadata": {
        "trusted": true
      },
      "outputs": [],
      "execution_count": 39
    },
    {
      "id": "5bff3f56-fefa-4c72-92c2-749565f3acc7",
      "cell_type": "code",
      "source": "p = np.linalg.solve(Q,s)\nprint(p)\n",
      "metadata": {
        "trusted": true
      },
      "outputs": [
        {
          "name": "stdout",
          "output_type": "stream",
          "text": "[-1.5  0.9]\n"
        }
      ],
      "execution_count": 40
    }
  ]
}