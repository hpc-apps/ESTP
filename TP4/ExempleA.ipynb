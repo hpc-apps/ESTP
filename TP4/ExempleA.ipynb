{
  "cells": [
    {
      "cell_type": "markdown",
      "metadata": {},
      "source": [
        "# Approximations de d\u00e9riv\u00e9es par diff\u00e9rences finies\n",
        "- Fonctions : sin(x), ln(1+x), x\u00b2\n",
        "- M\u00e9thodes : Avant (ordre 1), Centr\u00e9 (ordre 1, 2, 4)\n",
        "- \u00c9valuation en x = 1 et graphe log-log des erreurs"
      ]
    },
    {
      "cell_type": "code",
      "metadata": {},
      "execution_count": null,
      "outputs": [],
      "source": [
        "import numpy as np\n",
        "import matplotlib.pyplot as plt\n",
        "\n",
        "x0 = 1\n",
        "h_vals = np.logspace(-4, -1, 20)\n",
        "\n",
        "# Fonctions s\u00e9lectionn\u00e9es et d\u00e9riv\u00e9es exactes\n",
        "functions = [\n",
        "    (lambda x: np.sin(x), lambda x: np.cos(x), 'sin(x)'),\n",
        "    (lambda x: np.log(1 + x), lambda x: 1 / (1 + x), 'ln(1+x)'),\n",
        "    (lambda x: x**2, lambda x: 2 * x, 'x\u00b2')\n",
        "]\n",
        "\n",
        "# M\u00e9thodes de d\u00e9rivation\n",
        "def d1_av(f, x, h): return (f(x + h) - f(x)) / h\n",
        "def d1_c(f, x, h): return (f(x + h) - f(x - h)) / (2 * h)\n",
        "def d2_c(f, x, h): return (-f(x + 2*h) + 8*f(x + h) - 8*f(x - h) + f(x - 2*h)) / (12 * h)\n",
        "def d4_c(f, x, h): return (f(x - 2*h) - 8*f(x - h) + 8*f(x + h) - f(x + 2*h)) / (12 * h)"
      ]
    },
    {
      "cell_type": "code",
      "metadata": {},
      "execution_count": null,
      "outputs": [],
      "source": [
        "for f, df, name in functions:\n",
        "    erreurs_avant = []\n",
        "    erreurs_centre1 = []\n",
        "    erreurs_centre2 = []\n",
        "    erreurs_centre4 = []\n",
        "    exact = df(x0)\n",
        "\n",
        "    for h in h_vals:\n",
        "        erreurs_avant.append(abs(d1_av(f, x0, h) - exact))\n",
        "        erreurs_centre1.append(abs(d1_c(f, x0, h) - exact))\n",
        "        erreurs_centre2.append(abs(d2_c(f, x0, h) - exact))\n",
        "        erreurs_centre4.append(abs(d4_c(f, x0, h) - exact))\n",
        "\n",
        "    plt.figure(figsize=(8, 5))\n",
        "    plt.loglog(h_vals, erreurs_avant, 'o-', label='Avant (ordre 1)')\n",
        "    plt.loglog(h_vals, erreurs_centre1, 's-', label='Centr\u00e9e (ordre 1)')\n",
        "    plt.loglog(h_vals, erreurs_centre2, '^-', label='Centr\u00e9e (ordre 2)')\n",
        "    plt.loglog(h_vals, erreurs_centre4, 'd-', label='Centr\u00e9e (ordre 4)')\n",
        "    plt.xlabel('Pas h')\n",
        "    plt.ylabel('Erreur absolue')\n",
        "    plt.title(f'Erreur sur la d\u00e9riv\u00e9e de {name} en x=1')\n",
        "    plt.grid(True, which='both', ls='--')\n",
        "    plt.legend()\n",
        "    plt.tight_layout()\n",
        "    plt.show()"
      ]
    }
  ],
  "metadata": {
    "kernelspec": {
      "display_name": "Python 3",
      "language": "python",
      "name": "python3"
    },
    "language_info": {
      "name": "python"
    }
  },
  "nbformat": 4,
  "nbformat_minor": 5
}