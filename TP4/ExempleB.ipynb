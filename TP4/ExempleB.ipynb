{
  "cells": [
    {
      "cell_type": "markdown",
      "metadata": {},
      "source": [
        "# TD4 \u2013 Exercice 3 : \u00c9quation de diffusion-r\u00e9action 1D\n",
        "Ce notebook contient :\n",
        "- Rappel de la solution analytique\n",
        "- Impl\u00e9mentation du sch\u00e9ma centr\u00e9\n",
        "- R\u00e9solution pour N quelconque\n",
        "- Analyse de l'erreur\n",
        "- Impact de la division de h"
      ]
    },
    {
      "cell_type": "code",
      "metadata": {},
      "execution_count": null,
      "outputs": [],
      "source": [
        "import numpy as np\n",
        "import matplotlib.pyplot as plt\n",
        "\n",
        "# Solution analytique\n",
        "def solution_exacte(x, a):\n",
        "    return np.sinh(np.sqrt(a) * x) / np.sinh(np.sqrt(a))"
      ]
    },
    {
      "cell_type": "markdown",
      "metadata": {},
      "source": [
        "## Sch\u00e9ma centr\u00e9 et r\u00e9solution num\u00e9rique"
      ]
    },
    {
      "cell_type": "code",
      "metadata": {},
      "execution_count": null,
      "outputs": [],
      "source": [
        "def solve_diffusion_reaction(a, N):\n",
        "    h = 1 / (N + 1)\n",
        "    x = np.linspace(h, 1 - h, N)\n",
        "\n",
        "    main_diag = 2 + a * h**2\n",
        "    off_diag = -1 * np.ones(N - 1)\n",
        "    A = np.diag(main_diag * np.ones(N)) + np.diag(off_diag, -1) + np.diag(off_diag, 1)\n",
        "\n",
        "    F = np.zeros(N)\n",
        "    F[-1] += 1\n",
        "\n",
        "    u = np.linalg.solve(A, F)\n",
        "    u_ex = solution_exacte(x, a)\n",
        "    err = np.max(np.abs(u - u_ex))\n",
        "\n",
        "    # Plot\n",
        "    plt.plot(x, u, label='Num\u00e9rique')\n",
        "    plt.plot(x, u_ex, '--', label='Exacte')\n",
        "    plt.xlabel('x')\n",
        "    plt.ylabel('u(x)')\n",
        "    plt.title(f'Solution pour a = {a}, N = {N}')\n",
        "    plt.legend()\n",
        "    plt.grid(True)\n",
        "    plt.show()\n",
        "\n",
        "    print(f\"Erreur max : {err:.2e}\")\n",
        "    return h, err"
      ]
    },
    {
      "cell_type": "markdown",
      "metadata": {},
      "source": [
        "## Analyse de l'erreur en fonction de h"
      ]
    },
    {
      "cell_type": "code",
      "metadata": {},
      "execution_count": null,
      "outputs": [],
      "source": [
        "a = 1\n",
        "N_vals = [10, 20, 40, 80, 160]\n",
        "hs, erreurs = [], []\n",
        "\n",
        "for N in N_vals:\n",
        "    h, err = solve_diffusion_reaction(a, N)\n",
        "    hs.append(h)\n",
        "    erreurs.append(err)\n",
        "\n",
        "# Trac\u00e9 log-log\n",
        "plt.loglog(hs, erreurs, 'o-', label='Erreur max')\n",
        "plt.xlabel('Pas h')\n",
        "plt.ylabel('Erreur \u221e')\n",
        "plt.title('Erreur vs h (log-log)')\n",
        "plt.grid(True, which='both', ls='--')\n",
        "plt.legend()\n",
        "plt.show()"
      ]
    },
    {
      "cell_type": "markdown",
      "metadata": {},
      "source": [
        "## Interpr\u00e9tation de l'ordre \u00e0 partir des rapports d'erreur"
      ]
    },
    {
      "cell_type": "code",
      "metadata": {},
      "execution_count": null,
      "outputs": [],
      "source": [
        "for i in range(len(hs) - 1):\n",
        "    ratio = erreurs[i] / erreurs[i+1]\n",
        "    print(f\"Erreur(h={hs[i]:.3f}) / Erreur(h={hs[i+1]:.3f}) = {ratio:.2f}\")"
      ]
    },
    {
      "cell_type": "markdown",
      "metadata": {},
      "source": [
        "## Comparaison des normes d'erreur"
      ]
    },
    {
      "cell_type": "code",
      "metadata": {},
      "execution_count": null,
      "outputs": [],
      "source": [
        "# Calcul des erreurs en norme \u221e et 2\n",
        "for N in N_vals:\n",
        "    h = 1 / (N + 1)\n",
        "    x = np.linspace(h, 1 - h, N)\n",
        "    main_diag = 2 + a * h**2\n",
        "    off_diag = -1 * np.ones(N - 1)\n",
        "    A = np.diag(main_diag * np.ones(N)) + np.diag(off_diag, -1) + np.diag(off_diag, 1)\n",
        "    F = np.zeros(N)\n",
        "    F[-1] += 1\n",
        "    u_num = np.linalg.solve(A, F)\n",
        "    u_exact = solution_exacte(x, a)\n",
        "\n",
        "    err_inf = np.max(np.abs(u_num - u_exact))\n",
        "    err_2 = np.linalg.norm(u_num - u_exact, 2)\n",
        "    print(f\"N={N}, h={h:.5f}, ||e||_\u221e = {err_inf:.2e}, ||e||_2 = {err_2:.2e}\")"
      ]
    },
    {
      "cell_type": "markdown",
      "metadata": {},
      "source": [
        "## Estimation de la pente log-log (ordre de convergence)"
      ]
    },
    {
      "cell_type": "code",
      "metadata": {},
      "execution_count": null,
      "outputs": [],
      "source": [
        "log_h = np.log(hs)\n",
        "log_err = np.log(erreurs)\n",
        "pente = np.polyfit(log_h, log_err, 1)[0]\n",
        "print(f\"Ordre de convergence estim\u00e9 (pente log-log) : {abs(pente):.2f}\")"
      ]
    }
  ],
  "metadata": {
    "kernelspec": {
      "display_name": "Python 3",
      "language": "python",
      "name": "python3"
    },
    "language_info": {
      "name": "python"
    }
  },
  "nbformat": 4,
  "nbformat_minor": 5
}